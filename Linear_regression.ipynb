{
  "nbformat": 4,
  "nbformat_minor": 0,
  "metadata": {
    "colab": {
      "name": "Linear regression.ipynb",
      "provenance": [],
      "collapsed_sections": []
    },
    "kernelspec": {
      "name": "python3",
      "display_name": "Python 3"
    },
    "language_info": {
      "name": "python"
    }
  },
  "cells": [
    {
      "cell_type": "code",
      "execution_count": 1,
      "metadata": {
        "id": "S_fxnErnwjq-"
      },
      "outputs": [],
      "source": [
        "from sklearn.linear_model import LinearRegression\n"
      ]
    },
    {
      "cell_type": "code",
      "source": [
        "import pandas as pd\n"
      ],
      "metadata": {
        "id": "4SBT1SJaw5tC"
      },
      "execution_count": 2,
      "outputs": []
    },
    {
      "cell_type": "code",
      "source": [
        "dataset = pd.read_csv('/LinData.csv')\n",
        "print (dataset)"
      ],
      "metadata": {
        "colab": {
          "base_uri": "https://localhost:8080/"
        },
        "id": "GzVanfXgxAvj",
        "outputId": "3df8cfb4-a43d-4d22-e782-1d1bed9884b3"
      },
      "execution_count": 5,
      "outputs": [
        {
          "output_type": "stream",
          "name": "stdout",
          "text": [
            "   Month  StockPrice\n",
            "0      1           3\n",
            "1      2          10\n",
            "2      3          15\n",
            "3      4          12\n",
            "4      5          10\n",
            "5      6          18\n",
            "6      7          21\n",
            "7      8          40\n",
            "8      9          45\n",
            "9     10          40\n"
          ]
        }
      ]
    },
    {
      "cell_type": "code",
      "source": [
        "x = dataset.iloc[:, :-1].values\n",
        "y = dataset.iloc[:, -1].values\n"
      ],
      "metadata": {
        "id": "dGibvK5Zys0I"
      },
      "execution_count": 7,
      "outputs": []
    },
    {
      "cell_type": "code",
      "source": [
        "print(x,y)"
      ],
      "metadata": {
        "colab": {
          "base_uri": "https://localhost:8080/"
        },
        "id": "0_J58BCUzf7Z",
        "outputId": "a3a786d7-5ec3-4ea7-e911-f4d7f2bb61ef"
      },
      "execution_count": 8,
      "outputs": [
        {
          "output_type": "stream",
          "name": "stdout",
          "text": [
            "[[ 1]\n",
            " [ 2]\n",
            " [ 3]\n",
            " [ 4]\n",
            " [ 5]\n",
            " [ 6]\n",
            " [ 7]\n",
            " [ 8]\n",
            " [ 9]\n",
            " [10]] [ 3 10 15 12 10 18 21 40 45 40]\n"
          ]
        }
      ]
    },
    {
      "cell_type": "code",
      "source": [
        ""
      ],
      "metadata": {
        "colab": {
          "base_uri": "https://localhost:8080/"
        },
        "id": "rl3lPpbfz9_4",
        "outputId": "42e505ce-a77e-4968-a973-6df693c64602"
      },
      "execution_count": 9,
      "outputs": [
        {
          "output_type": "execute_result",
          "data": {
            "text/plain": [
              "LinearRegression()"
            ]
          },
          "metadata": {},
          "execution_count": 9
        }
      ]
    },
    {
      "cell_type": "code",
      "source": [
        "y_pred = reg.predict(x)"
      ],
      "metadata": {
        "id": "knEjfUvU0RPU"
      },
      "execution_count": 10,
      "outputs": []
    },
    {
      "cell_type": "code",
      "source": [
        "import matplotlib.pyplot as plt"
      ],
      "metadata": {
        "id": "T17x_mSj0hBF"
      },
      "execution_count": 12,
      "outputs": []
    },
    {
      "cell_type": "code",
      "source": [
        "plt.scatter(x,y, color = 'red')\n",
        "plt.plot(x, y_pred, color = 'blue')\n",
        "plt.show()"
      ],
      "metadata": {
        "colab": {
          "base_uri": "https://localhost:8080/",
          "height": 265
        },
        "id": "ZsFBrm0d0ciN",
        "outputId": "56609f09-3d73-4acd-cac1-dad1d036433f"
      },
      "execution_count": 13,
      "outputs": [
        {
          "output_type": "display_data",
          "data": {
            "text/plain": [
              "<Figure size 432x288 with 1 Axes>"
            ],
            "image/png": "[encoded data removed]"
          },
          "metadata": {
            "needs_background": "light"
          }
        }
      ]
    },
    {
      "cell_type": "code",
      "source": [
        "dataset = pd.read_csv('/content/RELIANCE.BO.csv')\n",
        "print (dataset)"
      ],
      "metadata": {
        "colab": {
          "base_uri": "https://localhost:8080/"
        },
        "id": "vugsK7Th1rr5",
        "outputId": "d5a264d1-62ea-48bc-cb87-9d815ffdf796"
      },
      "execution_count": 29,
      "outputs": [
        {
          "output_type": "stream",
          "name": "stdout",
          "text": [
            "      Date         Open\n",
            "0      1.0  2146.500000\n",
            "1      2.0  2170.000000\n",
            "2      3.0  2175.000000\n",
            "3      4.0  2148.000000\n",
            "4      5.0  2168.000000\n",
            "..     ...          ...\n",
            "244  245.0  2535.000000\n",
            "245  246.0  2572.000000\n",
            "246  247.0  2600.000000\n",
            "247  248.0  2586.250000\n",
            "248  249.0  2649.800049\n",
            "\n",
            "[249 rows x 2 columns]\n"
          ]
        }
      ]
    },
    {
      "cell_type": "code",
      "source": [
        "x = dataset.iloc[:, :-1].values\n",
        "y = dataset.iloc[:, -1].values\n"
      ],
      "metadata": {
        "id": "C9s9agFK2LHs"
      },
      "execution_count": 30,
      "outputs": []
    },
    {
      "cell_type": "code",
      "source": [
        "from sklearn.linear_model import LinearRegression\n"
      ],
      "metadata": {
        "id": "RkgkMm6H2QkG"
      },
      "execution_count": 31,
      "outputs": []
    },
    {
      "cell_type": "code",
      "source": [
        "reg = LinearRegression()\n",
        "reg.fit(x,y)"
      ],
      "metadata": {
        "colab": {
          "base_uri": "https://localhost:8080/"
        },
        "id": "i9uit6-O2TW1",
        "outputId": "79cc437e-4373-42c9-8a8a-6abf62722de2"
      },
      "execution_count": 32,
      "outputs": [
        {
          "output_type": "execute_result",
          "data": {
            "text/plain": [
              "LinearRegression()"
            ]
          },
          "metadata": {},
          "execution_count": 32
        }
      ]
    },
    {
      "cell_type": "code",
      "source": [
        "y_pred = reg.predict(x)\n"
      ],
      "metadata": {
        "id": "dzKFxvAy4lO2"
      },
      "execution_count": 33,
      "outputs": []
    },
    {
      "cell_type": "code",
      "source": [
        "plt.scatter(x,y, color = 'red')\n",
        "plt.plot(x, y_pred, color = 'blue')\n",
        "plt.show()\n"
      ],
      "metadata": {
        "colab": {
          "base_uri": "https://localhost:8080/",
          "height": 265
        },
        "id": "Vt1RyUGg4q3n",
        "outputId": "88d024a9-65da-459d-eb82-1cf04325d5a3"
      },
      "execution_count": 34,
      "outputs": [
        {
          "output_type": "display_data",
          "data": {
            "text/plain": [
              "<Figure size 432x288 with 1 Axes>"
            ],
            "image/png": "[encoded data removed]"
          },
          "metadata": {
            "needs_background": "light"
          }
        }
      ]
    },
    {
      "cell_type": "code",
      "source": [
        "from sklearn.preprocessing import PolynomialFeatures"
      ],
      "metadata": {
        "id": "M2hs1cBT4q0u"
      },
      "execution_count": 35,
      "outputs": []
    },
    {
      "cell_type": "code",
      "source": [
        "poly_reg = PolynomialFeatures(degree = 4)"
      ],
      "metadata": {
        "id": "ZkMSmYXo5Bo4"
      },
      "execution_count": 36,
      "outputs": []
    },
    {
      "cell_type": "code",
      "source": [
        "X_poly = poly_reg.fit_transform(x)"
      ],
      "metadata": {
        "id": "dIYdEOli5GcG"
      },
      "execution_count": 37,
      "outputs": []
    },
    {
      "cell_type": "code",
      "source": [
        "LG = LinearRegression()"
      ],
      "metadata": {
        "id": "Bs_KaWHY5KyU"
      },
      "execution_count": 38,
      "outputs": []
    },
    {
      "cell_type": "code",
      "source": [
        "LG.fit(X_poly, y)"
      ],
      "metadata": {
        "colab": {
          "base_uri": "https://localhost:8080/"
        },
        "id": "dUYpO3jb5PA8",
        "outputId": "35cd6140-74ff-4f70-ba51-142390502242"
      },
      "execution_count": 39,
      "outputs": [
        {
          "output_type": "execute_result",
          "data": {
            "text/plain": [
              "LinearRegression()"
            ]
          },
          "metadata": {},
          "execution_count": 39
        }
      ]
    },
    {
      "cell_type": "code",
      "source": [
        "y_pred=LG.predict(X_poly)"
      ],
      "metadata": {
        "id": "6ZCYlwNv5Y_8"
      },
      "execution_count": 40,
      "outputs": []
    },
    {
      "cell_type": "code",
      "source": [
        "plt.scatter(x, y, color = 'red')\n",
        "plt.plot(x,y_pred,  color = 'blue')"
      ],
      "metadata": {
        "colab": {
          "base_uri": "https://localhost:8080/",
          "height": 282
        },
        "id": "tZNmONzY5dsG",
        "outputId": "2aef9c96-c5dd-4f8e-89cf-cd5480de33df"
      },
      "execution_count": 41,
      "outputs": [
        {
          "output_type": "execute_result",
          "data": {
            "text/plain": [
              "[<matplotlib.lines.Line2D at 0x7f48fcecf0d0>]"
            ]
          },
          "metadata": {},
          "execution_count": 41
        },
        {
          "output_type": "display_data",
          "data": {
            "text/plain": [
              "<Figure size 432x288 with 1 Axes>"
            ],
            "image/png": "[encoded data removed]"
          },
          "metadata": {
            "needs_background": "light"
          }
        }
      ]
    }
  ]
}